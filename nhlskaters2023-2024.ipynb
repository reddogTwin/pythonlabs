{
 "cells": [
  {
   "cell_type": "code",
   "execution_count": 11,
   "id": "4c908b5b",
   "metadata": {},
   "outputs": [
    {
     "name": "stdout",
     "output_type": "stream",
     "text": [
      "C:\\Users\\steve.jamieson\\git\\pythonlabs\\data\n"
     ]
    }
   ],
   "source": [
    "import pandas as pd\n",
    "from pathlib import Path\n",
    "data_dir = Path.cwd()/ \"data\"\n",
    "\n",
    "print(data_dir)\n"
   ]
  },
  {
   "cell_type": "code",
   "execution_count": 12,
   "id": "74608735",
   "metadata": {},
   "outputs": [
    {
     "data": {
      "text/html": [
       "<div>\n",
       "<style scoped>\n",
       "    .dataframe tbody tr th:only-of-type {\n",
       "        vertical-align: middle;\n",
       "    }\n",
       "\n",
       "    .dataframe tbody tr th {\n",
       "        vertical-align: top;\n",
       "    }\n",
       "\n",
       "    .dataframe thead th {\n",
       "        text-align: right;\n",
       "    }\n",
       "</style>\n",
       "<table border=\"1\" class=\"dataframe\">\n",
       "  <thead>\n",
       "    <tr style=\"text-align: right;\">\n",
       "      <th></th>\n",
       "      <th>playerId</th>\n",
       "      <th>season</th>\n",
       "      <th>name</th>\n",
       "      <th>team</th>\n",
       "      <th>position</th>\n",
       "      <th>situation</th>\n",
       "      <th>games_played</th>\n",
       "      <th>icetime</th>\n",
       "      <th>shifts</th>\n",
       "      <th>gameScore</th>\n",
       "      <th>...</th>\n",
       "      <th>OffIce_F_xGoals</th>\n",
       "      <th>OffIce_A_xGoals</th>\n",
       "      <th>OffIce_F_shotAttempts</th>\n",
       "      <th>OffIce_A_shotAttempts</th>\n",
       "      <th>xGoalsForAfterShifts</th>\n",
       "      <th>xGoalsAgainstAfterShifts</th>\n",
       "      <th>corsiForAfterShifts</th>\n",
       "      <th>corsiAgainstAfterShifts</th>\n",
       "      <th>fenwickForAfterShifts</th>\n",
       "      <th>fenwickAgainstAfterShifts</th>\n",
       "    </tr>\n",
       "  </thead>\n",
       "  <tbody>\n",
       "    <tr>\n",
       "      <th>0</th>\n",
       "      <td>8480950</td>\n",
       "      <td>2023</td>\n",
       "      <td>Ilya Lyubushkin</td>\n",
       "      <td>TOR</td>\n",
       "      <td>D</td>\n",
       "      <td>other</td>\n",
       "      <td>59</td>\n",
       "      <td>2474.0</td>\n",
       "      <td>49.0</td>\n",
       "      <td>4.95</td>\n",
       "      <td>...</td>\n",
       "      <td>15.44</td>\n",
       "      <td>19.25</td>\n",
       "      <td>170.0</td>\n",
       "      <td>165.0</td>\n",
       "      <td>0.11</td>\n",
       "      <td>0.00</td>\n",
       "      <td>3.0</td>\n",
       "      <td>0.0</td>\n",
       "      <td>3.0</td>\n",
       "      <td>0.0</td>\n",
       "    </tr>\n",
       "    <tr>\n",
       "      <th>1</th>\n",
       "      <td>8480950</td>\n",
       "      <td>2023</td>\n",
       "      <td>Ilya Lyubushkin</td>\n",
       "      <td>TOR</td>\n",
       "      <td>D</td>\n",
       "      <td>all</td>\n",
       "      <td>59</td>\n",
       "      <td>60482.0</td>\n",
       "      <td>1321.0</td>\n",
       "      <td>1.77</td>\n",
       "      <td>...</td>\n",
       "      <td>132.96</td>\n",
       "      <td>134.45</td>\n",
       "      <td>2512.0</td>\n",
       "      <td>2516.0</td>\n",
       "      <td>0.00</td>\n",
       "      <td>0.00</td>\n",
       "      <td>0.0</td>\n",
       "      <td>0.0</td>\n",
       "      <td>0.0</td>\n",
       "      <td>0.0</td>\n",
       "    </tr>\n",
       "    <tr>\n",
       "      <th>2</th>\n",
       "      <td>8480950</td>\n",
       "      <td>2023</td>\n",
       "      <td>Ilya Lyubushkin</td>\n",
       "      <td>TOR</td>\n",
       "      <td>D</td>\n",
       "      <td>5on5</td>\n",
       "      <td>59</td>\n",
       "      <td>48477.0</td>\n",
       "      <td>1053.0</td>\n",
       "      <td>1.77</td>\n",
       "      <td>...</td>\n",
       "      <td>80.16</td>\n",
       "      <td>82.08</td>\n",
       "      <td>1789.0</td>\n",
       "      <td>1859.0</td>\n",
       "      <td>4.60</td>\n",
       "      <td>0.59</td>\n",
       "      <td>104.0</td>\n",
       "      <td>8.0</td>\n",
       "      <td>80.0</td>\n",
       "      <td>7.0</td>\n",
       "    </tr>\n",
       "    <tr>\n",
       "      <th>3</th>\n",
       "      <td>8480950</td>\n",
       "      <td>2023</td>\n",
       "      <td>Ilya Lyubushkin</td>\n",
       "      <td>TOR</td>\n",
       "      <td>D</td>\n",
       "      <td>4on5</td>\n",
       "      <td>59</td>\n",
       "      <td>9462.0</td>\n",
       "      <td>211.0</td>\n",
       "      <td>1.65</td>\n",
       "      <td>...</td>\n",
       "      <td>3.36</td>\n",
       "      <td>21.02</td>\n",
       "      <td>58.0</td>\n",
       "      <td>383.0</td>\n",
       "      <td>0.04</td>\n",
       "      <td>0.00</td>\n",
       "      <td>3.0</td>\n",
       "      <td>0.0</td>\n",
       "      <td>2.0</td>\n",
       "      <td>0.0</td>\n",
       "    </tr>\n",
       "    <tr>\n",
       "      <th>4</th>\n",
       "      <td>8480950</td>\n",
       "      <td>2023</td>\n",
       "      <td>Ilya Lyubushkin</td>\n",
       "      <td>TOR</td>\n",
       "      <td>D</td>\n",
       "      <td>5on4</td>\n",
       "      <td>59</td>\n",
       "      <td>69.0</td>\n",
       "      <td>8.0</td>\n",
       "      <td>2.15</td>\n",
       "      <td>...</td>\n",
       "      <td>3.52</td>\n",
       "      <td>0.74</td>\n",
       "      <td>68.0</td>\n",
       "      <td>9.0</td>\n",
       "      <td>0.00</td>\n",
       "      <td>0.00</td>\n",
       "      <td>0.0</td>\n",
       "      <td>0.0</td>\n",
       "      <td>0.0</td>\n",
       "      <td>0.0</td>\n",
       "    </tr>\n",
       "  </tbody>\n",
       "</table>\n",
       "<p>5 rows × 154 columns</p>\n",
       "</div>"
      ],
      "text/plain": [
       "   playerId  season             name team position situation  games_played  \\\n",
       "0   8480950    2023  Ilya Lyubushkin  TOR        D     other            59   \n",
       "1   8480950    2023  Ilya Lyubushkin  TOR        D       all            59   \n",
       "2   8480950    2023  Ilya Lyubushkin  TOR        D      5on5            59   \n",
       "3   8480950    2023  Ilya Lyubushkin  TOR        D      4on5            59   \n",
       "4   8480950    2023  Ilya Lyubushkin  TOR        D      5on4            59   \n",
       "\n",
       "   icetime  shifts  gameScore  ...  OffIce_F_xGoals  OffIce_A_xGoals  \\\n",
       "0   2474.0    49.0       4.95  ...            15.44            19.25   \n",
       "1  60482.0  1321.0       1.77  ...           132.96           134.45   \n",
       "2  48477.0  1053.0       1.77  ...            80.16            82.08   \n",
       "3   9462.0   211.0       1.65  ...             3.36            21.02   \n",
       "4     69.0     8.0       2.15  ...             3.52             0.74   \n",
       "\n",
       "   OffIce_F_shotAttempts  OffIce_A_shotAttempts  xGoalsForAfterShifts  \\\n",
       "0                  170.0                  165.0                  0.11   \n",
       "1                 2512.0                 2516.0                  0.00   \n",
       "2                 1789.0                 1859.0                  4.60   \n",
       "3                   58.0                  383.0                  0.04   \n",
       "4                   68.0                    9.0                  0.00   \n",
       "\n",
       "   xGoalsAgainstAfterShifts  corsiForAfterShifts  corsiAgainstAfterShifts  \\\n",
       "0                      0.00                  3.0                      0.0   \n",
       "1                      0.00                  0.0                      0.0   \n",
       "2                      0.59                104.0                      8.0   \n",
       "3                      0.00                  3.0                      0.0   \n",
       "4                      0.00                  0.0                      0.0   \n",
       "\n",
       "   fenwickForAfterShifts  fenwickAgainstAfterShifts  \n",
       "0                    3.0                        0.0  \n",
       "1                    0.0                        0.0  \n",
       "2                   80.0                        7.0  \n",
       "3                    2.0                        0.0  \n",
       "4                    0.0                        0.0  \n",
       "\n",
       "[5 rows x 154 columns]"
      ]
     },
     "execution_count": 12,
     "metadata": {},
     "output_type": "execute_result"
    }
   ],
   "source": [
    "skaters = pd.read_csv(data_dir / \"nhlskaters2023-2024.csv\")\n",
    "skaters.head()"
   ]
  },
  {
   "cell_type": "code",
   "execution_count": 13,
   "id": "32432924",
   "metadata": {},
   "outputs": [
    {
     "data": {
      "text/plain": [
       "playerId                       int64\n",
       "season                         int64\n",
       "name                          object\n",
       "team                          object\n",
       "position                      object\n",
       "                              ...   \n",
       "xGoalsAgainstAfterShifts     float64\n",
       "corsiForAfterShifts          float64\n",
       "corsiAgainstAfterShifts      float64\n",
       "fenwickForAfterShifts        float64\n",
       "fenwickAgainstAfterShifts    float64\n",
       "Length: 154, dtype: object"
      ]
     },
     "execution_count": 13,
     "metadata": {},
     "output_type": "execute_result"
    }
   ],
   "source": [
    "skaters.dtypes"
   ]
  },
  {
   "cell_type": "code",
   "execution_count": 28,
   "id": "8549aee1",
   "metadata": {},
   "outputs": [
    {
     "data": {
      "text/plain": [
       "RangeIndex(start=0, stop=4395, step=1)"
      ]
     },
     "execution_count": 28,
     "metadata": {},
     "output_type": "execute_result"
    }
   ],
   "source": [
    "## sorting, filtering \n",
    "skaters.index"
   ]
  },
  {
   "cell_type": "code",
   "execution_count": 31,
   "id": "e10a8d6c",
   "metadata": {},
   "outputs": [
    {
     "data": {
      "text/plain": [
       "position\n",
       "D    1515\n",
       "C    1405\n",
       "L     810\n",
       "R     665\n",
       "Name: count, dtype: int64"
      ]
     },
     "execution_count": 31,
     "metadata": {},
     "output_type": "execute_result"
    }
   ],
   "source": [
    "skaters_position = skaters['position'].value_counts()\n",
    "skaters_position"
   ]
  },
  {
   "cell_type": "code",
   "execution_count": 32,
   "id": "37bcb80d",
   "metadata": {},
   "outputs": [
    {
     "data": {
      "text/plain": [
       "Index(['D', 'C', 'L', 'R'], dtype='object', name='position')"
      ]
     },
     "execution_count": 32,
     "metadata": {},
     "output_type": "execute_result"
    }
   ],
   "source": [
    "skaters_position.index"
   ]
  },
  {
   "cell_type": "code",
   "execution_count": 40,
   "id": "c8525fe9",
   "metadata": {},
   "outputs": [
    {
     "data": {
      "text/html": [
       "<div>\n",
       "<style scoped>\n",
       "    .dataframe tbody tr th:only-of-type {\n",
       "        vertical-align: middle;\n",
       "    }\n",
       "\n",
       "    .dataframe tbody tr th {\n",
       "        vertical-align: top;\n",
       "    }\n",
       "\n",
       "    .dataframe thead th {\n",
       "        text-align: right;\n",
       "    }\n",
       "</style>\n",
       "<table border=\"1\" class=\"dataframe\">\n",
       "  <thead>\n",
       "    <tr style=\"text-align: right;\">\n",
       "      <th></th>\n",
       "      <th>playerId</th>\n",
       "      <th>season</th>\n",
       "      <th>name</th>\n",
       "      <th>team</th>\n",
       "      <th>position</th>\n",
       "      <th>situation</th>\n",
       "      <th>games_played</th>\n",
       "      <th>icetime</th>\n",
       "      <th>shifts</th>\n",
       "      <th>gameScore</th>\n",
       "      <th>...</th>\n",
       "      <th>OffIce_F_xGoals</th>\n",
       "      <th>OffIce_A_xGoals</th>\n",
       "      <th>OffIce_F_shotAttempts</th>\n",
       "      <th>OffIce_A_shotAttempts</th>\n",
       "      <th>xGoalsForAfterShifts</th>\n",
       "      <th>xGoalsAgainstAfterShifts</th>\n",
       "      <th>corsiForAfterShifts</th>\n",
       "      <th>corsiAgainstAfterShifts</th>\n",
       "      <th>fenwickForAfterShifts</th>\n",
       "      <th>fenwickAgainstAfterShifts</th>\n",
       "    </tr>\n",
       "  </thead>\n",
       "  <tbody>\n",
       "    <tr>\n",
       "      <th>561</th>\n",
       "      <td>8478396</td>\n",
       "      <td>2023</td>\n",
       "      <td>Noah Hanifin</td>\n",
       "      <td>VGK</td>\n",
       "      <td>D</td>\n",
       "      <td>all</td>\n",
       "      <td>62</td>\n",
       "      <td>88290.0</td>\n",
       "      <td>1934.0</td>\n",
       "      <td>39.02</td>\n",
       "      <td>...</td>\n",
       "      <td>112.64</td>\n",
       "      <td>112.19</td>\n",
       "      <td>2471.0</td>\n",
       "      <td>2286.0</td>\n",
       "      <td>0.0</td>\n",
       "      <td>0.0</td>\n",
       "      <td>0.0</td>\n",
       "      <td>0.0</td>\n",
       "      <td>0.0</td>\n",
       "      <td>0.0</td>\n",
       "    </tr>\n",
       "    <tr>\n",
       "      <th>3196</th>\n",
       "      <td>8477948</td>\n",
       "      <td>2023</td>\n",
       "      <td>Travis Sanheim</td>\n",
       "      <td>PHI</td>\n",
       "      <td>D</td>\n",
       "      <td>all</td>\n",
       "      <td>63</td>\n",
       "      <td>89618.0</td>\n",
       "      <td>1915.0</td>\n",
       "      <td>36.65</td>\n",
       "      <td>...</td>\n",
       "      <td>112.88</td>\n",
       "      <td>100.73</td>\n",
       "      <td>2591.0</td>\n",
       "      <td>2292.0</td>\n",
       "      <td>0.0</td>\n",
       "      <td>0.0</td>\n",
       "      <td>0.0</td>\n",
       "      <td>0.0</td>\n",
       "      <td>0.0</td>\n",
       "      <td>0.0</td>\n",
       "    </tr>\n",
       "    <tr>\n",
       "      <th>896</th>\n",
       "      <td>8477346</td>\n",
       "      <td>2023</td>\n",
       "      <td>MacKenzie Weegar</td>\n",
       "      <td>CGY</td>\n",
       "      <td>D</td>\n",
       "      <td>all</td>\n",
       "      <td>62</td>\n",
       "      <td>83214.0</td>\n",
       "      <td>1901.0</td>\n",
       "      <td>46.02</td>\n",
       "      <td>...</td>\n",
       "      <td>122.31</td>\n",
       "      <td>120.97</td>\n",
       "      <td>2438.0</td>\n",
       "      <td>2383.0</td>\n",
       "      <td>0.0</td>\n",
       "      <td>0.0</td>\n",
       "      <td>0.0</td>\n",
       "      <td>0.0</td>\n",
       "      <td>0.0</td>\n",
       "      <td>0.0</td>\n",
       "    </tr>\n",
       "    <tr>\n",
       "      <th>2526</th>\n",
       "      <td>8481546</td>\n",
       "      <td>2023</td>\n",
       "      <td>Cam York</td>\n",
       "      <td>PHI</td>\n",
       "      <td>D</td>\n",
       "      <td>all</td>\n",
       "      <td>64</td>\n",
       "      <td>83672.0</td>\n",
       "      <td>1853.0</td>\n",
       "      <td>25.23</td>\n",
       "      <td>...</td>\n",
       "      <td>123.44</td>\n",
       "      <td>114.01</td>\n",
       "      <td>2750.0</td>\n",
       "      <td>2500.0</td>\n",
       "      <td>0.0</td>\n",
       "      <td>0.0</td>\n",
       "      <td>0.0</td>\n",
       "      <td>0.0</td>\n",
       "      <td>0.0</td>\n",
       "      <td>0.0</td>\n",
       "    </tr>\n",
       "    <tr>\n",
       "      <th>4096</th>\n",
       "      <td>8480839</td>\n",
       "      <td>2023</td>\n",
       "      <td>Rasmus Dahlin</td>\n",
       "      <td>BUF</td>\n",
       "      <td>D</td>\n",
       "      <td>all</td>\n",
       "      <td>63</td>\n",
       "      <td>97615.0</td>\n",
       "      <td>1843.0</td>\n",
       "      <td>60.48</td>\n",
       "      <td>...</td>\n",
       "      <td>88.73</td>\n",
       "      <td>116.13</td>\n",
       "      <td>1880.0</td>\n",
       "      <td>2276.0</td>\n",
       "      <td>0.0</td>\n",
       "      <td>0.0</td>\n",
       "      <td>0.0</td>\n",
       "      <td>0.0</td>\n",
       "      <td>0.0</td>\n",
       "      <td>0.0</td>\n",
       "    </tr>\n",
       "  </tbody>\n",
       "</table>\n",
       "<p>5 rows × 154 columns</p>\n",
       "</div>"
      ],
      "text/plain": [
       "      playerId  season              name team position situation  \\\n",
       "561    8478396    2023      Noah Hanifin  VGK        D       all   \n",
       "3196   8477948    2023    Travis Sanheim  PHI        D       all   \n",
       "896    8477346    2023  MacKenzie Weegar  CGY        D       all   \n",
       "2526   8481546    2023          Cam York  PHI        D       all   \n",
       "4096   8480839    2023     Rasmus Dahlin  BUF        D       all   \n",
       "\n",
       "      games_played  icetime  shifts  gameScore  ...  OffIce_F_xGoals  \\\n",
       "561             62  88290.0  1934.0      39.02  ...           112.64   \n",
       "3196            63  89618.0  1915.0      36.65  ...           112.88   \n",
       "896             62  83214.0  1901.0      46.02  ...           122.31   \n",
       "2526            64  83672.0  1853.0      25.23  ...           123.44   \n",
       "4096            63  97615.0  1843.0      60.48  ...            88.73   \n",
       "\n",
       "      OffIce_A_xGoals  OffIce_F_shotAttempts  OffIce_A_shotAttempts  \\\n",
       "561            112.19                 2471.0                 2286.0   \n",
       "3196           100.73                 2591.0                 2292.0   \n",
       "896            120.97                 2438.0                 2383.0   \n",
       "2526           114.01                 2750.0                 2500.0   \n",
       "4096           116.13                 1880.0                 2276.0   \n",
       "\n",
       "      xGoalsForAfterShifts  xGoalsAgainstAfterShifts  corsiForAfterShifts  \\\n",
       "561                    0.0                       0.0                  0.0   \n",
       "3196                   0.0                       0.0                  0.0   \n",
       "896                    0.0                       0.0                  0.0   \n",
       "2526                   0.0                       0.0                  0.0   \n",
       "4096                   0.0                       0.0                  0.0   \n",
       "\n",
       "      corsiAgainstAfterShifts  fenwickForAfterShifts  \\\n",
       "561                       0.0                    0.0   \n",
       "3196                      0.0                    0.0   \n",
       "896                       0.0                    0.0   \n",
       "2526                      0.0                    0.0   \n",
       "4096                      0.0                    0.0   \n",
       "\n",
       "      fenwickAgainstAfterShifts  \n",
       "561                         0.0  \n",
       "3196                        0.0  \n",
       "896                         0.0  \n",
       "2526                        0.0  \n",
       "4096                        0.0  \n",
       "\n",
       "[5 rows x 154 columns]"
      ]
     },
     "execution_count": 40,
     "metadata": {},
     "output_type": "execute_result"
    }
   ],
   "source": [
    "## sorting by column - accending\n",
    "\n",
    "\n",
    "skaters = skaters.sort_values(\n",
    "by = 'shifts',\n",
    "ascending = False)\n",
    "skaters.head()"
   ]
  },
  {
   "cell_type": "code",
   "execution_count": 41,
   "id": "3a61acfe",
   "metadata": {},
   "outputs": [
    {
     "data": {
      "text/html": [
       "<div>\n",
       "<style scoped>\n",
       "    .dataframe tbody tr th:only-of-type {\n",
       "        vertical-align: middle;\n",
       "    }\n",
       "\n",
       "    .dataframe tbody tr th {\n",
       "        vertical-align: top;\n",
       "    }\n",
       "\n",
       "    .dataframe thead th {\n",
       "        text-align: right;\n",
       "    }\n",
       "</style>\n",
       "<table border=\"1\" class=\"dataframe\">\n",
       "  <thead>\n",
       "    <tr style=\"text-align: right;\">\n",
       "      <th></th>\n",
       "      <th>games_played</th>\n",
       "    </tr>\n",
       "  </thead>\n",
       "  <tbody>\n",
       "    <tr>\n",
       "      <th>0</th>\n",
       "      <td>59</td>\n",
       "    </tr>\n",
       "    <tr>\n",
       "      <th>3</th>\n",
       "      <td>59</td>\n",
       "    </tr>\n",
       "  </tbody>\n",
       "</table>\n",
       "</div>"
      ],
      "text/plain": [
       "   games_played\n",
       "0            59\n",
       "3            59"
      ]
     },
     "execution_count": 41,
     "metadata": {},
     "output_type": "execute_result"
    }
   ],
   "source": [
    "# using loc \n",
    "\n",
    "\n",
    "gamesplayed_2023 = skaters.loc[[0,3],['games_played']]\n",
    "# show output\n",
    "gamesplayed_2023"
   ]
  },
  {
   "cell_type": "code",
   "execution_count": null,
   "id": "fa4f7b67",
   "metadata": {},
   "outputs": [],
   "source": []
  },
  {
   "cell_type": "code",
   "execution_count": 20,
   "id": "16078376",
   "metadata": {},
   "outputs": [
    {
     "name": "stdout",
     "output_type": "stream",
     "text": [
      "playerId                     0\n",
      "season                       0\n",
      "name                         0\n",
      "team                         0\n",
      "position                     0\n",
      "                            ..\n",
      "xGoalsAgainstAfterShifts     0\n",
      "corsiForAfterShifts          0\n",
      "corsiAgainstAfterShifts      0\n",
      "fenwickForAfterShifts        0\n",
      "fenwickAgainstAfterShifts    0\n",
      "Length: 154, dtype: int64\n"
     ]
    }
   ],
   "source": [
    "# the DF\n",
    "# Checking the isnull method\n",
    "# understanding and examining examples\n",
    "\n",
    "print(skaters.isnull().sum())"
   ]
  },
  {
   "cell_type": "code",
   "execution_count": 14,
   "id": "e7a172a1",
   "metadata": {},
   "outputs": [
    {
     "data": {
      "text/plain": [
       "count     4395.000000\n",
       "mean     16270.364960\n",
       "std      22773.033902\n",
       "min          0.000000\n",
       "25%        410.500000\n",
       "50%       3817.000000\n",
       "75%      28781.500000\n",
       "max      97615.000000\n",
       "Name: icetime, dtype: float64"
      ]
     },
     "execution_count": 14,
     "metadata": {},
     "output_type": "execute_result"
    }
   ],
   "source": [
    "# explore numerical data\n",
    "skaters[\"icetime\"].describe()"
   ]
  },
  {
   "cell_type": "code",
   "execution_count": 16,
   "id": "74a13be0",
   "metadata": {},
   "outputs": [
    {
     "name": "stdout",
     "output_type": "stream",
     "text": [
      "1\n",
      "65\n"
     ]
    }
   ],
   "source": [
    "skater_season_min= skaters[\"games_played\"].min()\n",
    "skater_season_max= skaters[\"games_played\"].max()\n",
    "print(skater_season_min)\n",
    "print(skater_season_max)"
   ]
  },
  {
   "cell_type": "code",
   "execution_count": 17,
   "id": "5fb32392",
   "metadata": {},
   "outputs": [
    {
     "data": {
      "text/plain": [
       "count    4395.000000\n",
       "mean       41.110353\n",
       "std        21.758395\n",
       "min         1.000000\n",
       "25%        23.000000\n",
       "50%        49.000000\n",
       "75%        61.000000\n",
       "max        65.000000\n",
       "Name: games_played, dtype: float64"
      ]
     },
     "execution_count": 17,
     "metadata": {},
     "output_type": "execute_result"
    }
   ],
   "source": [
    "skaters[\"games_played\"].describe()"
   ]
  },
  {
   "cell_type": "code",
   "execution_count": 26,
   "id": "aeab95be",
   "metadata": {},
   "outputs": [
    {
     "data": {
      "text/plain": [
       "icetime\n",
       "0.0        258\n",
       "7.0         13\n",
       "6.0         13\n",
       "8.0         12\n",
       "3.0         12\n",
       "          ... \n",
       "62915.0      1\n",
       "49345.0      1\n",
       "7671.0       1\n",
       "2777.0       1\n",
       "11621.0      1\n",
       "Name: count, Length: 3342, dtype: int64"
      ]
     },
     "execution_count": 26,
     "metadata": {},
     "output_type": "execute_result"
    }
   ],
   "source": [
    "# explore numerical data with value counts \n",
    "# skaters[\"games_played\"].value_counts()\n",
    "\n",
    "skaters[\"icetime\"].value_counts()\n",
    "\n"
   ]
  },
  {
   "cell_type": "code",
   "execution_count": 27,
   "id": "04e40a27",
   "metadata": {},
   "outputs": [
    {
     "data": {
      "text/plain": [
       "97615.0"
      ]
     },
     "execution_count": 27,
     "metadata": {},
     "output_type": "execute_result"
    }
   ],
   "source": [
    "skaters[\"icetime\"].max()"
   ]
  },
  {
   "cell_type": "code",
   "execution_count": 19,
   "id": "2da9e321",
   "metadata": {},
   "outputs": [
    {
     "data": {
      "text/plain": [
       "games_played\n",
       "62    0.081911\n",
       "61    0.069397\n",
       "63    0.058020\n",
       "1     0.043231\n",
       "60    0.039818\n",
       "        ...   \n",
       "11    0.004551\n",
       "17    0.004551\n",
       "37    0.003413\n",
       "28    0.003413\n",
       "25    0.001138\n",
       "Name: proportion, Length: 65, dtype: float64"
      ]
     },
     "execution_count": 19,
     "metadata": {},
     "output_type": "execute_result"
    }
   ],
   "source": [
    "#normalize or Percent %\n",
    "\n",
    "skaters[\"games_played\"].value_counts(normalize=True)"
   ]
  },
  {
   "cell_type": "code",
   "execution_count": null,
   "id": "dcd036d0",
   "metadata": {},
   "outputs": [],
   "source": []
  }
 ],
 "metadata": {
  "kernelspec": {
   "display_name": "Python 3 (ipykernel)",
   "language": "python",
   "name": "python3"
  },
  "language_info": {
   "codemirror_mode": {
    "name": "ipython",
    "version": 3
   },
   "file_extension": ".py",
   "mimetype": "text/x-python",
   "name": "python",
   "nbconvert_exporter": "python",
   "pygments_lexer": "ipython3",
   "version": "3.11.5"
  }
 },
 "nbformat": 4,
 "nbformat_minor": 5
}
